{
 "cells": [
  {
   "cell_type": "code",
   "execution_count": 52,
   "id": "7b98f846",
   "metadata": {},
   "outputs": [],
   "source": [
    "import pandas as pd \n",
    "import numpy as np\n",
    "import matplotlib.pyplot as plt"
   ]
  },
  {
   "cell_type": "code",
   "execution_count": 14,
   "id": "c93e139d",
   "metadata": {},
   "outputs": [],
   "source": [
    "Web_df = pd.read_csv(\"C:/Users/SEBASTIAN/OneDrive/Escritorio/Soccer/data/Players1.csv\", sep=\";\", encoding=\"UTF-8\", index_col=0)"
   ]
  },
  {
   "cell_type": "code",
   "execution_count": 15,
   "id": "5d048b87",
   "metadata": {},
   "outputs": [
    {
     "data": {
      "text/html": [
       "<div>\n",
       "<style scoped>\n",
       "    .dataframe tbody tr th:only-of-type {\n",
       "        vertical-align: middle;\n",
       "    }\n",
       "\n",
       "    .dataframe tbody tr th {\n",
       "        vertical-align: top;\n",
       "    }\n",
       "\n",
       "    .dataframe thead th {\n",
       "        text-align: right;\n",
       "    }\n",
       "</style>\n",
       "<table border=\"1\" class=\"dataframe\">\n",
       "  <thead>\n",
       "    <tr style=\"text-align: right;\">\n",
       "      <th></th>\n",
       "      <th>nombre</th>\n",
       "      <th>valor</th>\n",
       "      <th>fecha</th>\n",
       "      <th>lugar</th>\n",
       "      <th>edad</th>\n",
       "      <th>altura</th>\n",
       "      <th>posicion</th>\n",
       "      <th>pie</th>\n",
       "      <th>club</th>\n",
       "      <th>fichado</th>\n",
       "      <th>contrato</th>\n",
       "    </tr>\n",
       "  </thead>\n",
       "  <tbody>\n",
       "    <tr>\n",
       "      <th>0</th>\n",
       "      <td>Erling Haaland</td>\n",
       "      <td>180000000</td>\n",
       "      <td>21/07/2000</td>\n",
       "      <td>Leeds</td>\n",
       "      <td>23</td>\n",
       "      <td>1,95 m</td>\n",
       "      <td>Delantero - Delantero centro</td>\n",
       "      <td>izquierdo</td>\n",
       "      <td>Manchester City</td>\n",
       "      <td>1/07/2022</td>\n",
       "      <td>30/06/2027</td>\n",
       "    </tr>\n",
       "    <tr>\n",
       "      <th>1</th>\n",
       "      <td>Kylian Mbappé</td>\n",
       "      <td>180000000</td>\n",
       "      <td>20/12/1998</td>\n",
       "      <td>Paris</td>\n",
       "      <td>24</td>\n",
       "      <td>1,78 m</td>\n",
       "      <td>Delantero - Delantero centro</td>\n",
       "      <td>derecho</td>\n",
       "      <td>París Saint-Germain FC</td>\n",
       "      <td>1/07/2018</td>\n",
       "      <td>30/06/2024</td>\n",
       "    </tr>\n",
       "    <tr>\n",
       "      <th>2</th>\n",
       "      <td>Vinicius Junior</td>\n",
       "      <td>150000000</td>\n",
       "      <td>12/07/2000</td>\n",
       "      <td>São Gonçalo</td>\n",
       "      <td>23</td>\n",
       "      <td>1,76 m</td>\n",
       "      <td>Delantero - Extremo izquierdo</td>\n",
       "      <td>derecho</td>\n",
       "      <td>Real Madrid CF</td>\n",
       "      <td>12/07/2018</td>\n",
       "      <td>30/06/2024</td>\n",
       "    </tr>\n",
       "    <tr>\n",
       "      <th>3</th>\n",
       "      <td>Jude Bellingham</td>\n",
       "      <td>120000000</td>\n",
       "      <td>29/06/2003</td>\n",
       "      <td>Stourbridge</td>\n",
       "      <td>20</td>\n",
       "      <td>1,86 m</td>\n",
       "      <td>Medio campo - Mediocentro</td>\n",
       "      <td>derecho</td>\n",
       "      <td>Real Madrid CF</td>\n",
       "      <td>1/07/2023</td>\n",
       "      <td>30/06/2029</td>\n",
       "    </tr>\n",
       "    <tr>\n",
       "      <th>4</th>\n",
       "      <td>Bukayo Saka</td>\n",
       "      <td>120000000</td>\n",
       "      <td>5/09/2001</td>\n",
       "      <td>London</td>\n",
       "      <td>22</td>\n",
       "      <td>1,78 m</td>\n",
       "      <td>Delantero - Extremo derecho</td>\n",
       "      <td>izquierdo</td>\n",
       "      <td>Arsenal FC</td>\n",
       "      <td>1/07/2019</td>\n",
       "      <td>30/06/2027</td>\n",
       "    </tr>\n",
       "  </tbody>\n",
       "</table>\n",
       "</div>"
      ],
      "text/plain": [
       "            nombre      valor       fecha        lugar  edad  altura  \\\n",
       "0   Erling Haaland  180000000  21/07/2000        Leeds    23  1,95 m   \n",
       "1    Kylian Mbappé  180000000  20/12/1998        Paris    24  1,78 m   \n",
       "2  Vinicius Junior  150000000  12/07/2000  São Gonçalo    23  1,76 m   \n",
       "3  Jude Bellingham  120000000  29/06/2003  Stourbridge    20  1,86 m   \n",
       "4      Bukayo Saka  120000000   5/09/2001       London    22  1,78 m   \n",
       "\n",
       "                        posicion        pie                    club  \\\n",
       "0   Delantero - Delantero centro  izquierdo         Manchester City   \n",
       "1   Delantero - Delantero centro    derecho  París Saint-Germain FC   \n",
       "2  Delantero - Extremo izquierdo    derecho          Real Madrid CF   \n",
       "3      Medio campo - Mediocentro    derecho          Real Madrid CF   \n",
       "4    Delantero - Extremo derecho  izquierdo              Arsenal FC   \n",
       "\n",
       "      fichado    contrato  \n",
       "0   1/07/2022  30/06/2027  \n",
       "1   1/07/2018  30/06/2024  \n",
       "2  12/07/2018  30/06/2024  \n",
       "3   1/07/2023  30/06/2029  \n",
       "4   1/07/2019  30/06/2027  "
      ]
     },
     "execution_count": 15,
     "metadata": {},
     "output_type": "execute_result"
    }
   ],
   "source": [
    "Web_df.head()"
   ]
  },
  {
   "cell_type": "code",
   "execution_count": 16,
   "id": "884cbff7",
   "metadata": {},
   "outputs": [
    {
     "data": {
      "text/plain": [
       "(474, 11)"
      ]
     },
     "execution_count": 16,
     "metadata": {},
     "output_type": "execute_result"
    }
   ],
   "source": [
    "Web_df.shape"
   ]
  },
  {
   "cell_type": "code",
   "execution_count": 17,
   "id": "490f6da2",
   "metadata": {},
   "outputs": [
    {
     "data": {
      "text/plain": [
       "object    9\n",
       "int64     2\n",
       "dtype: int64"
      ]
     },
     "execution_count": 17,
     "metadata": {},
     "output_type": "execute_result"
    }
   ],
   "source": [
    "Web_df.dtypes.value_counts()"
   ]
  },
  {
   "cell_type": "code",
   "execution_count": 18,
   "id": "4a39f348",
   "metadata": {},
   "outputs": [
    {
     "data": {
      "text/plain": [
       "nombre      False\n",
       "valor       False\n",
       "fecha       False\n",
       "lugar       False\n",
       "edad        False\n",
       "altura      False\n",
       "posicion    False\n",
       "pie         False\n",
       "club        False\n",
       "fichado     False\n",
       "contrato    False\n",
       "dtype: bool"
      ]
     },
     "execution_count": 18,
     "metadata": {},
     "output_type": "execute_result"
    }
   ],
   "source": [
    "Web_df.isnull().any()"
   ]
  },
  {
   "cell_type": "markdown",
   "id": "9279c1b0",
   "metadata": {},
   "source": [
    "Después de completar con éxito el proceso de Web scraping, hemos logrado obtener todos los datos esenciales de los jugadores, lo cual es crucial para el objetivo de nuestro proyecto."
   ]
  },
  {
   "cell_type": "code",
   "execution_count": 9,
   "id": "3eca3f83",
   "metadata": {},
   "outputs": [
    {
     "data": {
      "text/plain": [
       "84"
      ]
     },
     "execution_count": 9,
     "metadata": {},
     "output_type": "execute_result"
    }
   ],
   "source": [
    "Web_df[\"club\"].nunique()"
   ]
  },
  {
   "cell_type": "markdown",
   "id": "74ec8098",
   "metadata": {},
   "source": [
    "Contamos con la informacio de jugadores de 84 clubes diferentes "
   ]
  },
  {
   "cell_type": "code",
   "execution_count": 57,
   "id": "ab7af9b7",
   "metadata": {},
   "outputs": [
    {
     "data": {
      "text/html": [
       "<div>\n",
       "<style scoped>\n",
       "    .dataframe tbody tr th:only-of-type {\n",
       "        vertical-align: middle;\n",
       "    }\n",
       "\n",
       "    .dataframe tbody tr th {\n",
       "        vertical-align: top;\n",
       "    }\n",
       "\n",
       "    .dataframe thead th {\n",
       "        text-align: right;\n",
       "    }\n",
       "</style>\n",
       "<table border=\"1\" class=\"dataframe\">\n",
       "  <thead>\n",
       "    <tr style=\"text-align: right;\">\n",
       "      <th></th>\n",
       "      <th>valor</th>\n",
       "      <th>edad</th>\n",
       "    </tr>\n",
       "  </thead>\n",
       "  <tbody>\n",
       "    <tr>\n",
       "      <th>count</th>\n",
       "      <td>474.00</td>\n",
       "      <td>474.00</td>\n",
       "    </tr>\n",
       "    <tr>\n",
       "      <th>mean</th>\n",
       "      <td>38702531.65</td>\n",
       "      <td>24.79</td>\n",
       "    </tr>\n",
       "    <tr>\n",
       "      <th>std</th>\n",
       "      <td>22333861.93</td>\n",
       "      <td>3.10</td>\n",
       "    </tr>\n",
       "    <tr>\n",
       "      <th>min</th>\n",
       "      <td>20000000.00</td>\n",
       "      <td>16.00</td>\n",
       "    </tr>\n",
       "    <tr>\n",
       "      <th>25%</th>\n",
       "      <td>25000000.00</td>\n",
       "      <td>23.00</td>\n",
       "    </tr>\n",
       "    <tr>\n",
       "      <th>50%</th>\n",
       "      <td>30000000.00</td>\n",
       "      <td>25.00</td>\n",
       "    </tr>\n",
       "    <tr>\n",
       "      <th>75%</th>\n",
       "      <td>42000000.00</td>\n",
       "      <td>27.00</td>\n",
       "    </tr>\n",
       "    <tr>\n",
       "      <th>max</th>\n",
       "      <td>180000000.00</td>\n",
       "      <td>36.00</td>\n",
       "    </tr>\n",
       "  </tbody>\n",
       "</table>\n",
       "</div>"
      ],
      "text/plain": [
       "             valor   edad\n",
       "count       474.00 474.00\n",
       "mean   38702531.65  24.79\n",
       "std    22333861.93   3.10\n",
       "min    20000000.00  16.00\n",
       "25%    25000000.00  23.00\n",
       "50%    30000000.00  25.00\n",
       "75%    42000000.00  27.00\n",
       "max   180000000.00  36.00"
      ]
     },
     "execution_count": 57,
     "metadata": {},
     "output_type": "execute_result"
    }
   ],
   "source": [
    "Web_df.describe(include=\"int64\")"
   ]
  },
  {
   "cell_type": "code",
   "execution_count": 36,
   "id": "fd244b27",
   "metadata": {},
   "outputs": [
    {
     "data": {
      "text/plain": [
       "31"
      ]
     },
     "execution_count": 36,
     "metadata": {},
     "output_type": "execute_result"
    }
   ],
   "source": [
    "Web_df[\"valor\"].nunique()"
   ]
  },
  {
   "cell_type": "code",
   "execution_count": 30,
   "id": "945f3820",
   "metadata": {},
   "outputs": [
    {
     "data": {
      "image/png": "[encoded data removed]",
      "text/plain": [
       "<Figure size 864x432 with 1 Axes>"
      ]
     },
     "metadata": {
      "needs_background": "light"
     },
     "output_type": "display_data"
    }
   ],
   "source": [
    "rangos = [0, 50000000, 100000000, 150000000, float('inf')]\n",
    "etiquetas = ['0-50M', '50-100M', '100-150M', '150M+']\n",
    "Web_df['rango'] = pd.cut(Web_df['valor'], bins=rangos, labels=etiquetas, right=False)\n",
    "conteo = Web_df['rango'].value_counts().reindex(etiquetas, fill_value=0)\n",
    "plt.figure(figsize=(12, 6))\n",
    "df=conteo.plot(kind='bar',color=['royalblue', 'limegreen', 'orange', 'red'])\n",
    "plt.xlabel('Rango de Valores')\n",
    "plt.ylabel('Número de Jugadores')\n",
    "plt.title('Distribución de Jugadores ')\n",
    "for i in df.patches:\n",
    "    df.annotate(f'{int(i.get_height())}', (i.get_x() + i.get_width() / 2, i.get_height()), ha='center', va='bottom')\n",
    "plt.show()"
   ]
  },
  {
   "cell_type": "markdown",
   "id": "bfd26c11",
   "metadata": {},
   "source": [
    "Esta gráfica nos permite observar una variación ligera en los valores de los jugadores, y destaca que la mayoría de ellos se sitúan en el rango de 0 a 50 millones, con un total de 370 jugadores. Esta distribución nos brinda una perspectiva significativa sobre cómo están distribuidos financieramente los jugadores en el grupo que estamos analizando."
   ]
  },
  {
   "cell_type": "code",
   "execution_count": 32,
   "id": "4b0c499c",
   "metadata": {},
   "outputs": [
    {
     "data": {
      "image/png": "[encoded data removed]",
      "text/plain": [
       "<Figure size 864x432 with 1 Axes>"
      ]
     },
     "metadata": {
      "needs_background": "light"
     },
     "output_type": "display_data"
    }
   ],
   "source": [
    "age_counts = Web_df['edad'].value_counts().sort_index()\n",
    "plt.figure(figsize=(12, 6))\n",
    "colores = ['skyblue', 'salmon', 'limegreen', 'gold', 'royalblue', 'orchid', 'darkorange']\n",
    "plt.bar(age_counts.index, age_counts.values, width=0.9, color=colores)\n",
    "plt.xlabel('Edad')\n",
    "plt.ylabel('Cantidad de Jugadores')\n",
    "plt.title('Gráfico de Barras de Edades')\n",
    "plt.show()"
   ]
  },
  {
   "cell_type": "markdown",
   "id": "46bd3a04",
   "metadata": {},
   "source": [
    "El gráfico de barras muestra que la mayoría de los jugadores tienen edades entre 24 y 26 años. Este hallazgo es fundamental para nuestro proyecto, que se centra en predecir el valor de los jugadores en función de sus estadísticas. Esta franja de edad podría ser clave en la determinación del valor de un jugador."
   ]
  },
  {
   "cell_type": "code",
   "execution_count": 17,
   "id": "a59a8aa5",
   "metadata": {},
   "outputs": [
    {
     "data": {
      "text/plain": [
       "array(['Delantero - Delantero centro', 'Delantero - Extremo izquierdo',\n",
       "       'Medio campo - Mediocentro', 'Delantero - Extremo derecho',\n",
       "       'Medio campo - Mediocentro ofensivo', 'Medio campo - Pivote',\n",
       "       'Defensa', 'Portero', 'Delantero - Mediapunta',\n",
       "       'Medio campo - Interior derecho',\n",
       "       'Medio campo - Interior izquierdo'], dtype=object)"
      ]
     },
     "execution_count": 17,
     "metadata": {},
     "output_type": "execute_result"
    }
   ],
   "source": [
    "Web_df[\"posicion\"].unique()"
   ]
  },
  {
   "cell_type": "code",
   "execution_count": 30,
   "id": "664bac54",
   "metadata": {},
   "outputs": [
    {
     "data": {
      "image/png": "[encoded data removed]",
      "text/plain": [
       "<Figure size 792x432 with 1 Axes>"
      ]
     },
     "metadata": {
      "needs_background": "light"
     },
     "output_type": "display_data"
    }
   ],
   "source": [
    "def agrupar_defensa(posicion):\n",
    "    if \"defensa\" in posicion.lower():\n",
    "        return \"Defensa\"\n",
    "    elif \"delantero\" in posicion.lower():\n",
    "        return \"Delantero\"\n",
    "    elif \"medio campo\" in posicion.lower():\n",
    "        return \"Medio Campo\"\n",
    "    else:\n",
    "        return posicion\n",
    "    \n",
    "Web_df[\"posicion\"] = Web_df[\"posicion\"].apply(agrupar_defensa)\n",
    "\n",
    "posicion_counts = Web_df[\"posicion\"].value_counts()\n",
    "colores = ['#C03221', '#FFC53A', '#3085C3', '#545E75']\n",
    "plt.figure(figsize=(11, 6))\n",
    "posicion_counts.plot(kind='bar', color=colores)\n",
    "plt.title('Cantidad de Jugadores por Posición')\n",
    "plt.xlabel('Posición')\n",
    "plt.ylabel('Cantidad de Jugadores')\n",
    "plt.xticks(rotation=45)\n",
    "\n",
    "for i, v in enumerate(posicion_counts):\n",
    "    plt.text(i, v, str(v), ha='center', va='bottom')\n",
    "\n",
    "plt.show()"
   ]
  },
  {
   "cell_type": "markdown",
   "id": "efc7357c",
   "metadata": {},
   "source": [
    "En este gráfico, podemos observar la distribución de jugadores en función de su posición en el campo. Notamos que las posiciones de delanteros y mediocampistas destacan al tener la mayor cantidad de jugadores, con un total de 158 en cada una de ellas.La concentración de jugadores en estas dos posiciones sugiere que podrían desempeñar un papel significativo en la determinación del valor."
   ]
  },
  {
   "cell_type": "code",
   "execution_count": 53,
   "id": "f18568f0",
   "metadata": {},
   "outputs": [
    {
     "data": {
      "text/plain": [
       "(-1.25, 1.25, -1.25, 1.25)"
      ]
     },
     "execution_count": 53,
     "metadata": {},
     "output_type": "execute_result"
    },
    {
     "data": {
      "image/png": "[encoded data removed]",
      "text/plain": [
       "<Figure size 432x432 with 1 Axes>"
      ]
     },
     "metadata": {},
     "output_type": "display_data"
    }
   ],
   "source": [
    "foot = Web_df['pie'].value_counts()\n",
    "colores = [ '#90D1A4', '#FFC53A', '#3085C3']\n",
    "plt.figure(figsize=(6, 6))\n",
    "plt.pie(foot, labels=foot.index, autopct='%1.1f%%', startangle=140, colors=colores)\n",
    "plt.axis('off')"
   ]
  },
  {
   "cell_type": "markdown",
   "id": "8fbb3a29",
   "metadata": {},
   "source": [
    "En este gráfico de pastel, se ha representado la preferencia por la pierna hábil de cada jugador, y destaca la predominancia de la pierna derecha. Cabe destacar que un número reducido de jugadores posee la habilidad de ser ambidiestros, una característica que puede ser altamente valiosa y tener un impacto positivo en el valor del jugador. "
   ]
  }
 ],
 "metadata": {
  "kernelspec": {
   "display_name": "Python 3 (ipykernel)",
   "language": "python",
   "name": "python3"
  },
  "language_info": {
   "codemirror_mode": {
    "name": "ipython",
    "version": 3
   },
   "file_extension": ".py",
   "mimetype": "text/x-python",
   "name": "python",
   "nbconvert_exporter": "python",
   "pygments_lexer": "ipython3",
   "version": "3.9.12"
  }
 },
 "nbformat": 4,
 "nbformat_minor": 5
}
