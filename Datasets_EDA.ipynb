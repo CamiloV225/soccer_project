{
 "cells": [
  {
   "cell_type": "markdown",
   "id": "f59c850b",
   "metadata": {},
   "source": [
    "<span style=\"font-size: 30px; font-weight: bold;\">Football Player Stats</span>"
   ]
  },
  {
   "cell_type": "code",
   "execution_count": 2,
   "id": "976b36ac",
   "metadata": {},
   "outputs": [],
   "source": [
    "import pandas as pd \n",
    "import numpy \n",
    "import matplotlib.pyplot as plt\n",
    "import psycopg2"
   ]
  },
  {
   "cell_type": "code",
   "execution_count": 3,
   "id": "fa4a5715",
   "metadata": {},
   "outputs": [],
   "source": [
    "players_df = pd.read_csv(\"C:/Users/CHZ/Desktop/2021-2022 Football Player Stats.csv\", sep=\";\", encoding=\"ISO-8859-1\")              "
   ]
  },
  {
   "cell_type": "code",
   "execution_count": 4,
   "id": "eef3731f",
   "metadata": {},
   "outputs": [
    {
     "data": {
      "text/html": [
       "<div>\n",
       "<style scoped>\n",
       "    .dataframe tbody tr th:only-of-type {\n",
       "        vertical-align: middle;\n",
       "    }\n",
       "\n",
       "    .dataframe tbody tr th {\n",
       "        vertical-align: top;\n",
       "    }\n",
       "\n",
       "    .dataframe thead th {\n",
       "        text-align: right;\n",
       "    }\n",
       "</style>\n",
       "<table border=\"1\" class=\"dataframe\">\n",
       "  <thead>\n",
       "    <tr style=\"text-align: right;\">\n",
       "      <th></th>\n",
       "      <th>Rk</th>\n",
       "      <th>Player</th>\n",
       "      <th>Nation</th>\n",
       "      <th>Pos</th>\n",
       "      <th>Squad</th>\n",
       "      <th>Comp</th>\n",
       "      <th>Age</th>\n",
       "      <th>Born</th>\n",
       "      <th>MP</th>\n",
       "      <th>Starts</th>\n",
       "      <th>...</th>\n",
       "      <th>Off</th>\n",
       "      <th>Crs</th>\n",
       "      <th>TklW</th>\n",
       "      <th>PKwon</th>\n",
       "      <th>PKcon</th>\n",
       "      <th>OG</th>\n",
       "      <th>Recov</th>\n",
       "      <th>AerWon</th>\n",
       "      <th>AerLost</th>\n",
       "      <th>AerWon%</th>\n",
       "    </tr>\n",
       "  </thead>\n",
       "  <tbody>\n",
       "    <tr>\n",
       "      <th>0</th>\n",
       "      <td>1</td>\n",
       "      <td>Max Aarons</td>\n",
       "      <td>ENG</td>\n",
       "      <td>DF</td>\n",
       "      <td>Norwich City</td>\n",
       "      <td>Premier League</td>\n",
       "      <td>22.0</td>\n",
       "      <td>2000</td>\n",
       "      <td>34</td>\n",
       "      <td>32</td>\n",
       "      <td>...</td>\n",
       "      <td>0.03</td>\n",
       "      <td>1.41</td>\n",
       "      <td>1.16</td>\n",
       "      <td>0.0</td>\n",
       "      <td>0.06</td>\n",
       "      <td>0.03</td>\n",
       "      <td>5.53</td>\n",
       "      <td>0.47</td>\n",
       "      <td>1.59</td>\n",
       "      <td>22.7</td>\n",
       "    </tr>\n",
       "    <tr>\n",
       "      <th>1</th>\n",
       "      <td>2</td>\n",
       "      <td>Yunis Abdelhamid</td>\n",
       "      <td>MAR</td>\n",
       "      <td>DF</td>\n",
       "      <td>Reims</td>\n",
       "      <td>Ligue 1</td>\n",
       "      <td>34.0</td>\n",
       "      <td>1987</td>\n",
       "      <td>34</td>\n",
       "      <td>34</td>\n",
       "      <td>...</td>\n",
       "      <td>0.00</td>\n",
       "      <td>0.06</td>\n",
       "      <td>1.39</td>\n",
       "      <td>0.0</td>\n",
       "      <td>0.03</td>\n",
       "      <td>0.00</td>\n",
       "      <td>6.77</td>\n",
       "      <td>2.02</td>\n",
       "      <td>1.36</td>\n",
       "      <td>59.8</td>\n",
       "    </tr>\n",
       "    <tr>\n",
       "      <th>2</th>\n",
       "      <td>3</td>\n",
       "      <td>Salis Abdul Samed</td>\n",
       "      <td>GHA</td>\n",
       "      <td>MF</td>\n",
       "      <td>Clermont Foot</td>\n",
       "      <td>Ligue 1</td>\n",
       "      <td>22.0</td>\n",
       "      <td>2000</td>\n",
       "      <td>31</td>\n",
       "      <td>29</td>\n",
       "      <td>...</td>\n",
       "      <td>0.00</td>\n",
       "      <td>0.36</td>\n",
       "      <td>1.24</td>\n",
       "      <td>0.0</td>\n",
       "      <td>0.00</td>\n",
       "      <td>0.00</td>\n",
       "      <td>8.76</td>\n",
       "      <td>0.88</td>\n",
       "      <td>0.88</td>\n",
       "      <td>50.0</td>\n",
       "    </tr>\n",
       "    <tr>\n",
       "      <th>3</th>\n",
       "      <td>4</td>\n",
       "      <td>Laurent Abergel</td>\n",
       "      <td>FRA</td>\n",
       "      <td>MF</td>\n",
       "      <td>Lorient</td>\n",
       "      <td>Ligue 1</td>\n",
       "      <td>29.0</td>\n",
       "      <td>1993</td>\n",
       "      <td>34</td>\n",
       "      <td>34</td>\n",
       "      <td>...</td>\n",
       "      <td>0.03</td>\n",
       "      <td>0.79</td>\n",
       "      <td>2.23</td>\n",
       "      <td>0.0</td>\n",
       "      <td>0.00</td>\n",
       "      <td>0.00</td>\n",
       "      <td>8.87</td>\n",
       "      <td>0.43</td>\n",
       "      <td>0.43</td>\n",
       "      <td>50.0</td>\n",
       "    </tr>\n",
       "    <tr>\n",
       "      <th>4</th>\n",
       "      <td>5</td>\n",
       "      <td>Charles Abi</td>\n",
       "      <td>FRA</td>\n",
       "      <td>FW</td>\n",
       "      <td>Saint-Étienne</td>\n",
       "      <td>Ligue 1</td>\n",
       "      <td>22.0</td>\n",
       "      <td>2000</td>\n",
       "      <td>1</td>\n",
       "      <td>1</td>\n",
       "      <td>...</td>\n",
       "      <td>0.00</td>\n",
       "      <td>2.00</td>\n",
       "      <td>0.00</td>\n",
       "      <td>0.0</td>\n",
       "      <td>0.00</td>\n",
       "      <td>0.00</td>\n",
       "      <td>4.00</td>\n",
       "      <td>2.00</td>\n",
       "      <td>0.00</td>\n",
       "      <td>100.0</td>\n",
       "    </tr>\n",
       "  </tbody>\n",
       "</table>\n",
       "<p>5 rows × 143 columns</p>\n",
       "</div>"
      ],
      "text/plain": [
       "   Rk             Player Nation Pos          Squad            Comp   Age  \\\n",
       "0   1         Max Aarons    ENG  DF   Norwich City  Premier League  22.0   \n",
       "1   2   Yunis Abdelhamid    MAR  DF          Reims         Ligue 1  34.0   \n",
       "2   3  Salis Abdul Samed    GHA  MF  Clermont Foot         Ligue 1  22.0   \n",
       "3   4    Laurent Abergel    FRA  MF        Lorient         Ligue 1  29.0   \n",
       "4   5        Charles Abi    FRA  FW  Saint-Étienne         Ligue 1  22.0   \n",
       "\n",
       "   Born  MP  Starts  ...   Off   Crs  TklW  PKwon  PKcon    OG  Recov  AerWon  \\\n",
       "0  2000  34      32  ...  0.03  1.41  1.16    0.0   0.06  0.03   5.53    0.47   \n",
       "1  1987  34      34  ...  0.00  0.06  1.39    0.0   0.03  0.00   6.77    2.02   \n",
       "2  2000  31      29  ...  0.00  0.36  1.24    0.0   0.00  0.00   8.76    0.88   \n",
       "3  1993  34      34  ...  0.03  0.79  2.23    0.0   0.00  0.00   8.87    0.43   \n",
       "4  2000   1       1  ...  0.00  2.00  0.00    0.0   0.00  0.00   4.00    2.00   \n",
       "\n",
       "   AerLost  AerWon%  \n",
       "0     1.59     22.7  \n",
       "1     1.36     59.8  \n",
       "2     0.88     50.0  \n",
       "3     0.43     50.0  \n",
       "4     0.00    100.0  \n",
       "\n",
       "[5 rows x 143 columns]"
      ]
     },
     "execution_count": 4,
     "metadata": {},
     "output_type": "execute_result"
    }
   ],
   "source": [
    "players_df.head()"
   ]
  },
  {
   "cell_type": "code",
   "execution_count": 5,
   "id": "ef2dc75b",
   "metadata": {},
   "outputs": [
    {
     "data": {
      "text/plain": [
       "(2921, 143)"
      ]
     },
     "execution_count": 5,
     "metadata": {},
     "output_type": "execute_result"
    }
   ],
   "source": [
    "players_df.shape"
   ]
  },
  {
   "cell_type": "code",
   "execution_count": 6,
   "id": "0d3e5005",
   "metadata": {},
   "outputs": [
    {
     "data": {
      "text/plain": [
       "Rk           int64\n",
       "Player      object\n",
       "Nation      object\n",
       "Pos         object\n",
       "Squad       object\n",
       "            ...   \n",
       "OG         float64\n",
       "Recov      float64\n",
       "AerWon     float64\n",
       "AerLost    float64\n",
       "AerWon%    float64\n",
       "Length: 143, dtype: object"
      ]
     },
     "execution_count": 6,
     "metadata": {},
     "output_type": "execute_result"
    }
   ],
   "source": [
    "players_df.dtypes"
   ]
  },
  {
   "cell_type": "code",
   "execution_count": 7,
   "id": "8f93e8eb",
   "metadata": {},
   "outputs": [
    {
     "data": {
      "text/plain": [
       "float64    133\n",
       "int64        5\n",
       "object       5\n",
       "Name: count, dtype: int64"
      ]
     },
     "execution_count": 7,
     "metadata": {},
     "output_type": "execute_result"
    }
   ],
   "source": [
    "players_df.dtypes.value_counts()"
   ]
  },
  {
   "cell_type": "markdown",
   "id": "7022aecf",
   "metadata": {},
   "source": [
    "<span style=\"font-size: 13pt;\">En la siguiente celda, se reviso la existencia de valores nulos en las columnas del conjunto de datos. Donde se ha observado la presencia de valores nulos en las columnas 'Nation' y 'Age'</span>"
   ]
  },
  {
   "cell_type": "code",
   "execution_count": 8,
   "id": "7686858f",
   "metadata": {},
   "outputs": [
    {
     "data": {
      "text/plain": [
       "Rk         False\n",
       "Player     False\n",
       "Nation      True\n",
       "Pos        False\n",
       "Squad      False\n",
       "           ...  \n",
       "OG         False\n",
       "Recov      False\n",
       "AerWon     False\n",
       "AerLost    False\n",
       "AerWon%    False\n",
       "Length: 143, dtype: bool"
      ]
     },
     "execution_count": 8,
     "metadata": {},
     "output_type": "execute_result"
    }
   ],
   "source": [
    "players_df.isnull().any()"
   ]
  },
  {
   "cell_type": "markdown",
   "id": "a1ef5c24",
   "metadata": {},
   "source": [
    "<span style=\"font-size: 13pt;\">Aquí, evaluamos la cantidad de valores nulos en las columnas 'Age' y 'Nation'. Observamos que en ambas columnas solo hay un valor nulo, lo cual tiene un impacto insignificante en los análisis y procedimientos subsiguientes.</span>"
   ]
  },
  {
   "cell_type": "code",
   "execution_count": 9,
   "id": "c41f3fee",
   "metadata": {},
   "outputs": [
    {
     "name": "stdout",
     "output_type": "stream",
     "text": [
      "Nation    1\n",
      "Age       1\n",
      "dtype: int64\n"
     ]
    }
   ],
   "source": [
    "Nulls1 = players_df[['Nation', 'Age']].isnull().sum()\n",
    "print(Nulls1)"
   ]
  },
  {
   "cell_type": "code",
   "execution_count": 10,
   "id": "ec5b6c75",
   "metadata": {},
   "outputs": [
    {
     "data": {
      "text/html": [
       "<div>\n",
       "<style scoped>\n",
       "    .dataframe tbody tr th:only-of-type {\n",
       "        vertical-align: middle;\n",
       "    }\n",
       "\n",
       "    .dataframe tbody tr th {\n",
       "        vertical-align: top;\n",
       "    }\n",
       "\n",
       "    .dataframe thead th {\n",
       "        text-align: right;\n",
       "    }\n",
       "</style>\n",
       "<table border=\"1\" class=\"dataframe\">\n",
       "  <thead>\n",
       "    <tr style=\"text-align: right;\">\n",
       "      <th></th>\n",
       "      <th>Born</th>\n",
       "      <th>MP</th>\n",
       "      <th>Starts</th>\n",
       "      <th>Min</th>\n",
       "    </tr>\n",
       "  </thead>\n",
       "  <tbody>\n",
       "    <tr>\n",
       "      <th>count</th>\n",
       "      <td>2921.000000</td>\n",
       "      <td>2921.000000</td>\n",
       "      <td>2921.000000</td>\n",
       "      <td>2921.000000</td>\n",
       "    </tr>\n",
       "    <tr>\n",
       "      <th>mean</th>\n",
       "      <td>1994.725094</td>\n",
       "      <td>18.800068</td>\n",
       "      <td>13.749743</td>\n",
       "      <td>1234.756248</td>\n",
       "    </tr>\n",
       "    <tr>\n",
       "      <th>std</th>\n",
       "      <td>37.210426</td>\n",
       "      <td>11.619882</td>\n",
       "      <td>11.393763</td>\n",
       "      <td>977.941288</td>\n",
       "    </tr>\n",
       "    <tr>\n",
       "      <th>min</th>\n",
       "      <td>0.000000</td>\n",
       "      <td>1.000000</td>\n",
       "      <td>0.000000</td>\n",
       "      <td>1.000000</td>\n",
       "    </tr>\n",
       "    <tr>\n",
       "      <th>25%</th>\n",
       "      <td>1992.000000</td>\n",
       "      <td>8.000000</td>\n",
       "      <td>3.000000</td>\n",
       "      <td>307.000000</td>\n",
       "    </tr>\n",
       "    <tr>\n",
       "      <th>50%</th>\n",
       "      <td>1996.000000</td>\n",
       "      <td>20.000000</td>\n",
       "      <td>12.000000</td>\n",
       "      <td>1102.000000</td>\n",
       "    </tr>\n",
       "    <tr>\n",
       "      <th>75%</th>\n",
       "      <td>1999.000000</td>\n",
       "      <td>29.000000</td>\n",
       "      <td>23.000000</td>\n",
       "      <td>2025.000000</td>\n",
       "    </tr>\n",
       "    <tr>\n",
       "      <th>max</th>\n",
       "      <td>2006.000000</td>\n",
       "      <td>38.000000</td>\n",
       "      <td>38.000000</td>\n",
       "      <td>3420.000000</td>\n",
       "    </tr>\n",
       "  </tbody>\n",
       "</table>\n",
       "</div>"
      ],
      "text/plain": [
       "              Born           MP       Starts          Min\n",
       "count  2921.000000  2921.000000  2921.000000  2921.000000\n",
       "mean   1994.725094    18.800068    13.749743  1234.756248\n",
       "std      37.210426    11.619882    11.393763   977.941288\n",
       "min       0.000000     1.000000     0.000000     1.000000\n",
       "25%    1992.000000     8.000000     3.000000   307.000000\n",
       "50%    1996.000000    20.000000    12.000000  1102.000000\n",
       "75%    1999.000000    29.000000    23.000000  2025.000000\n",
       "max    2006.000000    38.000000    38.000000  3420.000000"
      ]
     },
     "execution_count": 10,
     "metadata": {},
     "output_type": "execute_result"
    }
   ],
   "source": [
    "players_df.drop('Rk', axis=1).describe(include='int64')"
   ]
  },
  {
   "cell_type": "code",
   "execution_count": 11,
   "id": "90501916",
   "metadata": {},
   "outputs": [
    {
     "data": {
      "text/html": [
       "<div>\n",
       "<style scoped>\n",
       "    .dataframe tbody tr th:only-of-type {\n",
       "        vertical-align: middle;\n",
       "    }\n",
       "\n",
       "    .dataframe tbody tr th {\n",
       "        vertical-align: top;\n",
       "    }\n",
       "\n",
       "    .dataframe thead th {\n",
       "        text-align: right;\n",
       "    }\n",
       "</style>\n",
       "<table border=\"1\" class=\"dataframe\">\n",
       "  <thead>\n",
       "    <tr style=\"text-align: right;\">\n",
       "      <th></th>\n",
       "      <th>Player</th>\n",
       "      <th>Nation</th>\n",
       "      <th>Pos</th>\n",
       "      <th>Squad</th>\n",
       "      <th>Comp</th>\n",
       "    </tr>\n",
       "  </thead>\n",
       "  <tbody>\n",
       "    <tr>\n",
       "      <th>count</th>\n",
       "      <td>2921</td>\n",
       "      <td>2920</td>\n",
       "      <td>2921</td>\n",
       "      <td>2921</td>\n",
       "      <td>2921</td>\n",
       "    </tr>\n",
       "    <tr>\n",
       "      <th>unique</th>\n",
       "      <td>2786</td>\n",
       "      <td>102</td>\n",
       "      <td>11</td>\n",
       "      <td>98</td>\n",
       "      <td>5</td>\n",
       "    </tr>\n",
       "    <tr>\n",
       "      <th>top</th>\n",
       "      <td>Marcelo</td>\n",
       "      <td>ESP</td>\n",
       "      <td>DF</td>\n",
       "      <td>Salernitana</td>\n",
       "      <td>Serie A</td>\n",
       "    </tr>\n",
       "    <tr>\n",
       "      <th>freq</th>\n",
       "      <td>3</td>\n",
       "      <td>435</td>\n",
       "      <td>942</td>\n",
       "      <td>42</td>\n",
       "      <td>632</td>\n",
       "    </tr>\n",
       "  </tbody>\n",
       "</table>\n",
       "</div>"
      ],
      "text/plain": [
       "         Player Nation   Pos        Squad     Comp\n",
       "count      2921   2920  2921         2921     2921\n",
       "unique     2786    102    11           98        5\n",
       "top     Marcelo    ESP    DF  Salernitana  Serie A\n",
       "freq          3    435   942           42      632"
      ]
     },
     "execution_count": 11,
     "metadata": {},
     "output_type": "execute_result"
    }
   ],
   "source": [
    "players_df.describe(include=\"object\") "
   ]
  },
  {
   "cell_type": "markdown",
   "id": "46ed59fe",
   "metadata": {},
   "source": [
    "<span style=\"font-size: 13pt;\">En este análisis, también examinamos las diversas posiciones y sus variantes. Aquellos jugadores cuyas posiciones están representadas por 4 caracteres son aquellos que tienen la capacidad o experiencia de desempeñarse en dos posiciones distintas.</span>"
   ]
  },
  {
   "cell_type": "code",
   "execution_count": 12,
   "id": "513a199b",
   "metadata": {},
   "outputs": [
    {
     "data": {
      "text/plain": [
       "array(['DF', 'MF', 'FW', 'MFFW', 'FWMF', 'GK', 'DFMF', 'FWDF', 'MFDF',\n",
       "       'DFFW', 'GKMF'], dtype=object)"
      ]
     },
     "execution_count": 12,
     "metadata": {},
     "output_type": "execute_result"
    }
   ],
   "source": [
    "players_df['Pos'].unique()"
   ]
  },
  {
   "cell_type": "markdown",
   "id": "bff6668d",
   "metadata": {},
   "source": [
    "<span style=\"font-size: 13pt;\">Durante la revisión de las columnas, notamos la presencia de algunas columnas con valores idénticos. Estas columnas fueron eliminadas, ya que no aportan significado sustancial y podrían introducir multicolinealidad con otras columnas. Los casos específicos que abordamos fueron los siguientes:</span>"
   ]
  },
  {
   "cell_type": "code",
   "execution_count": null,
   "id": "86669710",
   "metadata": {},
   "outputs": [],
   "source": [
    "p = df[['pasatt','pastoatt']]\n",
    "a = p.head(10)\n",
    "print(a)"
   ]
  },
  {
   "cell_type": "code",
   "execution_count": null,
   "id": "404ab0f3",
   "metadata": {},
   "outputs": [],
   "source": [
    "p = df[['pascmp','pastotcmp']]\n",
    "a = p.head(10)\n",
    "print(a)"
   ]
  },
  {
   "cell_type": "code",
   "execution_count": null,
   "id": "e481fe72",
   "metadata": {},
   "outputs": [],
   "source": [
    "p = df[['pascrs','crs',]]\n",
    "a = p.head(10)\n",
    "print(a)"
   ]
  },
  {
   "cell_type": "markdown",
   "id": "087b557f",
   "metadata": {},
   "source": [
    "<span style=\"font-size: 25px; font-weight: bold;\">Graficas</span>\n",
    "\n",
    "<span style=\"font-size: 13pt;\">En esta sección, exploramos el conjunto de datos mediante la creación de diversas visualizaciones que nos brindarán una comprensión más profunda del contenido del csv.</span>"
   ]
  },
  {
   "cell_type": "code",
   "execution_count": 73,
   "id": "b5f04e83",
   "metadata": {},
   "outputs": [
    {
     "data": {
      "image/png": "[encoded data removed]",
      "text/plain": [
       "<Figure size 800x500 with 1 Axes>"
      ]
     },
     "metadata": {},
     "output_type": "display_data"
    }
   ],
   "source": [
    "age_counts = players_df['Age'].value_counts().sort_index()\n",
    "plt.figure(figsize=(8, 5))\n",
    "plt.bar(age_counts.index, age_counts.values, width=0.9, color='skyblue')\n",
    "plt.xlabel('Edad')\n",
    "plt.ylabel('Cantidad de Jugadores')\n",
    "plt.title('Gráfico de Barras de Edades')\n",
    "plt.show()"
   ]
  },
  {
   "cell_type": "markdown",
   "id": "0db19997",
   "metadata": {},
   "source": [
    "<span style=\"font-size: 13pt;\">En esta primera gráfica, un histograma de Edades. Exploramos la distribución de las edades de los jugadores en el conjunto de datos. Donde notablemente, destaca una concentración significativa de jugadores en el rango de 22 a 28 años. Esta tendencia sugiere una correspondencia con las edades predominantes en las principales ligas de fútbol del mundo.</span>"
   ]
  },
  {
   "cell_type": "code",
   "execution_count": 84,
   "id": "63c97eb1",
   "metadata": {},
   "outputs": [
    {
     "data": {
      "image/png": "[encoded data removed]",
      "text/plain": [
       "<Figure size 800x500 with 1 Axes>"
      ]
     },
     "metadata": {},
     "output_type": "display_data"
    }
   ],
   "source": [
    "players_df['Categoria'] = players_df['Pos'].str[:2]\n",
    "\n",
    "categoria_mapping = {'DF': 'DF', 'MF': 'MF', 'FW': 'FW', 'GK': 'GK'}\n",
    "players_df['Categoria'] = players_df['Categoria'].map(categoria_mapping)\n",
    "\n",
    "categoria_counts = players_df['Categoria'].value_counts().sort_index()\n",
    "colores = ['#C03221', '#FFC53A', '#3085C3', '#545E75']\n",
    "\n",
    "plt.figure(figsize=(8, 5))\n",
    "bars = plt.bar(categoria_counts.index, categoria_counts.values, width=0.9, color=colores)\n",
    "plt.xlabel('Categoría')\n",
    "plt.ylabel('Cantidad de Jugadores')\n",
    "plt.title('Gráfico de Barras de Categorías')\n",
    "\n",
    "for bar in bars:\n",
    "    yval = bar.get_height()\n",
    "    plt.text(bar.get_x() + bar.get_width()/2, yval + 0.1, int(yval), ha='center', va='bottom')\n",
    "\n",
    "plt.show()"
   ]
  },
  {
   "cell_type": "markdown",
   "id": "8216c794",
   "metadata": {},
   "source": [
    "<span style=\"font-size: 13pt;\">En el segundo histograma, que representa las posiciones de los jugadores, observamos una distribución destacada. Notamos una cantidad significativa de defensas y delanteros.</span>"
   ]
  },
  {
   "cell_type": "code",
   "execution_count": 75,
   "id": "7717adde",
   "metadata": {},
   "outputs": [
    {
     "data": {
      "image/png": "[encoded data removed]",
      "text/plain": [
       "<Figure size 600x500 with 1 Axes>"
      ]
     },
     "metadata": {},
     "output_type": "display_data"
    }
   ],
   "source": [
    "liga_counts = players_df['Comp'].value_counts()\n",
    "\n",
    "total_jugadores = len(players_df)\n",
    "\n",
    "plt.figure(figsize=(6, 5))\n",
    "wedges, texts, autotexts = plt.pie(liga_counts, labels=liga_counts.index, autopct=lambda p: '{:.0f}\\n({:.1f}%)'.format(p * total_jugadores / 100, p),\n",
    "                                   startangle=140, pctdistance=0.8)\n",
    "\n",
    "for text, autotext in zip(texts, autotexts):\n",
    "    text.set_size(10)\n",
    "    autotext.set_size(9)\n",
    "\n",
    "plt.title('Gráfico de Torta del Conteó de jugadores por liga')\n",
    "plt.show()"
   ]
  },
  {
   "cell_type": "markdown",
   "id": "cb32d643",
   "metadata": {},
   "source": [
    "<span style=\"font-size: 13pt;\">En nuestro tercer gráfico, una visualización en forma de torta, exploramos el recuento de jugadores por cada liga. Donde se destaca que contamos con una distribución relativamente equitativa de jugadores entre las diversas ligas, sin diferencias significativas. Sin embargo, se observa una ligera tendencia en la Serie A.</span>"
   ]
  },
  {
   "cell_type": "code",
   "execution_count": 82,
   "id": "9b5ca87c",
   "metadata": {},
   "outputs": [
    {
     "data": {
      "image/png": "[encoded data removed]",
      "text/plain": [
       "<Figure size 800x500 with 1 Axes>"
      ]
     },
     "metadata": {},
     "output_type": "display_data"
    }
   ],
   "source": [
    "top_paises = players_df['Nation'].value_counts().nlargest(5)\n",
    "colores = ['#C03221', '#FFC53A', '#3085C3', '#545E75', '#90D1A4']\n",
    "\n",
    "plt.figure(figsize=(8, 5))\n",
    "bars = plt.bar(top_paises.index, top_paises, color=colores)\n",
    "\n",
    "for bar, cantidad in zip(bars, top_paises):\n",
    "    plt.text(bar.get_x() + bar.get_width() / 2, bar.get_height() + 0.1, str(cantidad), ha='center', va='bottom', color='black')\n",
    "\n",
    "plt.xlabel('País')\n",
    "plt.ylabel('Cantidad de Jugadores')\n",
    "plt.title('Top 5 Países')\n",
    "plt.xticks(rotation=45, ha='right') \n",
    "plt.show()"
   ]
  },
  {
   "cell_type": "markdown",
   "id": "00ca083a",
   "metadata": {},
   "source": [
    "<span style=\"font-size: 13pt;\">En nuestra última gráfica de barras, enfocada en el conteo de jugadores por país, presentamos el top 5 de naciones más representadas en nuestro conjunto de datos. Se evidencia una clara tendencia, con España y Francia destacándose significativamente en comparación con otros países. Este top 5 refleja la fuerte presencia de naciones que históricamente han sobresalido en el ámbito del fútbol.</span>"
   ]
  },
  {
   "cell_type": "markdown",
   "id": "d9b9c501",
   "metadata": {},
   "source": [
    "<span style=\"font-size: 30px; font-weight: bold;\">Football Value</span>"
   ]
  },
  {
   "cell_type": "code",
   "execution_count": null,
   "id": "c50ae0e7",
   "metadata": {},
   "outputs": [],
   "source": [
    "connection = connect_postgres()\n",
    "cursor = connection.cursor()\n",
    "cursor.execute(\"\"\"SELECT * FROM playervalue\"\"\")\n",
    "connection.commit()\n",
    "resultados = cursor.fetchall()\n",
    "df = pd.DataFrame(resultados)\n",
    "df.columns=['Rk','Name','Age','Value','Team','Nationality','Position']\n",
    "print(df.head())"
   ]
  },
  {
   "cell_type": "code",
   "execution_count": 33,
   "id": "e54d05f7",
   "metadata": {},
   "outputs": [],
   "source": [
    "value_df = pd.read_csv(\"C:/Users/CHZ/Desktop/transfermarkt_player_data.csv\", sep=\",\", encoding=\"utf-8\")    "
   ]
  },
  {
   "cell_type": "code",
   "execution_count": 49,
   "id": "b5602aa0",
   "metadata": {},
   "outputs": [
    {
     "data": {
      "text/html": [
       "<div>\n",
       "<style scoped>\n",
       "    .dataframe tbody tr th:only-of-type {\n",
       "        vertical-align: middle;\n",
       "    }\n",
       "\n",
       "    .dataframe tbody tr th {\n",
       "        vertical-align: top;\n",
       "    }\n",
       "\n",
       "    .dataframe thead th {\n",
       "        text-align: right;\n",
       "    }\n",
       "</style>\n",
       "<table border=\"1\" class=\"dataframe\">\n",
       "  <thead>\n",
       "    <tr style=\"text-align: right;\">\n",
       "      <th></th>\n",
       "      <th>Unnamed: 0</th>\n",
       "      <th>Player Name</th>\n",
       "      <th>Player Age</th>\n",
       "      <th>Value</th>\n",
       "      <th>Team</th>\n",
       "      <th>Nationality</th>\n",
       "      <th>Position</th>\n",
       "      <th>valor_numerico</th>\n",
       "      <th>Posicion_Agrupada</th>\n",
       "      <th>rango</th>\n",
       "    </tr>\n",
       "  </thead>\n",
       "  <tbody>\n",
       "    <tr>\n",
       "      <th>0</th>\n",
       "      <td>0</td>\n",
       "      <td>Ederson</td>\n",
       "      <td>29</td>\n",
       "      <td>€45.00m</td>\n",
       "      <td>Manchester City</td>\n",
       "      <td>Brazil</td>\n",
       "      <td>Goalkeeper</td>\n",
       "      <td>45000000.0</td>\n",
       "      <td>Arquero</td>\n",
       "      <td>0-50M</td>\n",
       "    </tr>\n",
       "    <tr>\n",
       "      <th>1</th>\n",
       "      <td>1</td>\n",
       "      <td>Stefan Ortega</td>\n",
       "      <td>30</td>\n",
       "      <td>€6.00m</td>\n",
       "      <td>Manchester City</td>\n",
       "      <td>Germany</td>\n",
       "      <td>Goalkeeper</td>\n",
       "      <td>6000000.0</td>\n",
       "      <td>Arquero</td>\n",
       "      <td>0-50M</td>\n",
       "    </tr>\n",
       "    <tr>\n",
       "      <th>2</th>\n",
       "      <td>2</td>\n",
       "      <td>Scott Carson</td>\n",
       "      <td>37</td>\n",
       "      <td>€250k</td>\n",
       "      <td>Manchester City</td>\n",
       "      <td>England</td>\n",
       "      <td>Goalkeeper</td>\n",
       "      <td>250000.0</td>\n",
       "      <td>Arquero</td>\n",
       "      <td>0-50M</td>\n",
       "    </tr>\n",
       "    <tr>\n",
       "      <th>3</th>\n",
       "      <td>3</td>\n",
       "      <td>Rúben Dias</td>\n",
       "      <td>25</td>\n",
       "      <td>€75.00m</td>\n",
       "      <td>Manchester City</td>\n",
       "      <td>Portugal</td>\n",
       "      <td>Centre-Back</td>\n",
       "      <td>75000000.0</td>\n",
       "      <td>Defensas</td>\n",
       "      <td>50-100M</td>\n",
       "    </tr>\n",
       "    <tr>\n",
       "      <th>4</th>\n",
       "      <td>4</td>\n",
       "      <td>Nathan Aké</td>\n",
       "      <td>28</td>\n",
       "      <td>€35.00m</td>\n",
       "      <td>Manchester City</td>\n",
       "      <td>Netherlands</td>\n",
       "      <td>Centre-Back</td>\n",
       "      <td>35000000.0</td>\n",
       "      <td>Defensas</td>\n",
       "      <td>0-50M</td>\n",
       "    </tr>\n",
       "    <tr>\n",
       "      <th>5</th>\n",
       "      <td>5</td>\n",
       "      <td>John Stones</td>\n",
       "      <td>28</td>\n",
       "      <td>€30.00m</td>\n",
       "      <td>Manchester City</td>\n",
       "      <td>England</td>\n",
       "      <td>Centre-Back</td>\n",
       "      <td>30000000.0</td>\n",
       "      <td>Defensas</td>\n",
       "      <td>0-50M</td>\n",
       "    </tr>\n",
       "    <tr>\n",
       "      <th>6</th>\n",
       "      <td>6</td>\n",
       "      <td>Aymeric Laporte</td>\n",
       "      <td>28</td>\n",
       "      <td>€30.00m</td>\n",
       "      <td>Manchester City</td>\n",
       "      <td>Spain</td>\n",
       "      <td>Centre-Back</td>\n",
       "      <td>30000000.0</td>\n",
       "      <td>Defensas</td>\n",
       "      <td>0-50M</td>\n",
       "    </tr>\n",
       "    <tr>\n",
       "      <th>7</th>\n",
       "      <td>7</td>\n",
       "      <td>Manuel Akanji</td>\n",
       "      <td>27</td>\n",
       "      <td>€30.00m</td>\n",
       "      <td>Manchester City</td>\n",
       "      <td>Switzerland</td>\n",
       "      <td>Centre-Back</td>\n",
       "      <td>30000000.0</td>\n",
       "      <td>Defensas</td>\n",
       "      <td>0-50M</td>\n",
       "    </tr>\n",
       "    <tr>\n",
       "      <th>8</th>\n",
       "      <td>8</td>\n",
       "      <td>Sergio Gómez</td>\n",
       "      <td>22</td>\n",
       "      <td>€15.00m</td>\n",
       "      <td>Manchester City</td>\n",
       "      <td>Spain</td>\n",
       "      <td>Left-Back</td>\n",
       "      <td>15000000.0</td>\n",
       "      <td>Defensas</td>\n",
       "      <td>0-50M</td>\n",
       "    </tr>\n",
       "    <tr>\n",
       "      <th>10</th>\n",
       "      <td>10</td>\n",
       "      <td>Kyle Walker</td>\n",
       "      <td>32</td>\n",
       "      <td>€15.00m</td>\n",
       "      <td>Manchester City</td>\n",
       "      <td>England</td>\n",
       "      <td>Right-Back</td>\n",
       "      <td>15000000.0</td>\n",
       "      <td>Defensas</td>\n",
       "      <td>0-50M</td>\n",
       "    </tr>\n",
       "    <tr>\n",
       "      <th>11</th>\n",
       "      <td>11</td>\n",
       "      <td>Rico Lewis</td>\n",
       "      <td>18</td>\n",
       "      <td>€15.00m</td>\n",
       "      <td>Manchester City</td>\n",
       "      <td>England</td>\n",
       "      <td>Right-Back</td>\n",
       "      <td>15000000.0</td>\n",
       "      <td>Defensas</td>\n",
       "      <td>0-50M</td>\n",
       "    </tr>\n",
       "    <tr>\n",
       "      <th>12</th>\n",
       "      <td>12</td>\n",
       "      <td>Rodri</td>\n",
       "      <td>26</td>\n",
       "      <td>€80.00m</td>\n",
       "      <td>Manchester City</td>\n",
       "      <td>Spain</td>\n",
       "      <td>Defensive Midfield</td>\n",
       "      <td>80000000.0</td>\n",
       "      <td>Defensas</td>\n",
       "      <td>50-100M</td>\n",
       "    </tr>\n",
       "    <tr>\n",
       "      <th>13</th>\n",
       "      <td>13</td>\n",
       "      <td>Kalvin Phillips</td>\n",
       "      <td>27</td>\n",
       "      <td>€35.00m</td>\n",
       "      <td>Manchester City</td>\n",
       "      <td>England</td>\n",
       "      <td>Defensive Midfield</td>\n",
       "      <td>35000000.0</td>\n",
       "      <td>Defensas</td>\n",
       "      <td>0-50M</td>\n",
       "    </tr>\n",
       "    <tr>\n",
       "      <th>14</th>\n",
       "      <td>14</td>\n",
       "      <td>Máximo Perrone</td>\n",
       "      <td>20</td>\n",
       "      <td>€10.00m</td>\n",
       "      <td>Manchester City</td>\n",
       "      <td>Argentina</td>\n",
       "      <td>Defensive Midfield</td>\n",
       "      <td>10000000.0</td>\n",
       "      <td>Defensas</td>\n",
       "      <td>0-50M</td>\n",
       "    </tr>\n",
       "    <tr>\n",
       "      <th>15</th>\n",
       "      <td>15</td>\n",
       "      <td>Ilkay Gündogan</td>\n",
       "      <td>32</td>\n",
       "      <td>€25.00m</td>\n",
       "      <td>Manchester City</td>\n",
       "      <td>Germany</td>\n",
       "      <td>Central Midfield</td>\n",
       "      <td>25000000.0</td>\n",
       "      <td>Volantes</td>\n",
       "      <td>0-50M</td>\n",
       "    </tr>\n",
       "    <tr>\n",
       "      <th>16</th>\n",
       "      <td>16</td>\n",
       "      <td>Kevin De Bruyne</td>\n",
       "      <td>31</td>\n",
       "      <td>€80.00m</td>\n",
       "      <td>Manchester City</td>\n",
       "      <td>Belgium</td>\n",
       "      <td>Attacking Midfield</td>\n",
       "      <td>80000000.0</td>\n",
       "      <td>Volantes</td>\n",
       "      <td>50-100M</td>\n",
       "    </tr>\n",
       "    <tr>\n",
       "      <th>17</th>\n",
       "      <td>17</td>\n",
       "      <td>Bernardo Silva</td>\n",
       "      <td>28</td>\n",
       "      <td>€80.00m</td>\n",
       "      <td>Manchester City</td>\n",
       "      <td>Portugal</td>\n",
       "      <td>Attacking Midfield</td>\n",
       "      <td>80000000.0</td>\n",
       "      <td>Volantes</td>\n",
       "      <td>50-100M</td>\n",
       "    </tr>\n",
       "    <tr>\n",
       "      <th>18</th>\n",
       "      <td>18</td>\n",
       "      <td>Cole Palmer</td>\n",
       "      <td>20</td>\n",
       "      <td>€15.00m</td>\n",
       "      <td>Manchester City</td>\n",
       "      <td>England</td>\n",
       "      <td>Attacking Midfield</td>\n",
       "      <td>15000000.0</td>\n",
       "      <td>Volantes</td>\n",
       "      <td>0-50M</td>\n",
       "    </tr>\n",
       "    <tr>\n",
       "      <th>19</th>\n",
       "      <td>19</td>\n",
       "      <td>Phil Foden</td>\n",
       "      <td>22</td>\n",
       "      <td>€110.00m</td>\n",
       "      <td>Manchester City</td>\n",
       "      <td>England</td>\n",
       "      <td>Left Winger</td>\n",
       "      <td>110000000.0</td>\n",
       "      <td>Volantes</td>\n",
       "      <td>100-150M</td>\n",
       "    </tr>\n",
       "    <tr>\n",
       "      <th>20</th>\n",
       "      <td>20</td>\n",
       "      <td>Jack Grealish</td>\n",
       "      <td>27</td>\n",
       "      <td>€70.00m</td>\n",
       "      <td>Manchester City</td>\n",
       "      <td>England</td>\n",
       "      <td>Left Winger</td>\n",
       "      <td>70000000.0</td>\n",
       "      <td>Volantes</td>\n",
       "      <td>50-100M</td>\n",
       "    </tr>\n",
       "  </tbody>\n",
       "</table>\n",
       "</div>"
      ],
      "text/plain": [
       "    Unnamed: 0      Player Name  Player Age     Value               Team  \\\n",
       "0            0          Ederson          29   €45.00m   Manchester City    \n",
       "1            1    Stefan Ortega          30    €6.00m   Manchester City    \n",
       "2            2     Scott Carson          37     €250k   Manchester City    \n",
       "3            3       Rúben Dias          25   €75.00m   Manchester City    \n",
       "4            4       Nathan Aké          28   €35.00m   Manchester City    \n",
       "5            5      John Stones          28   €30.00m   Manchester City    \n",
       "6            6  Aymeric Laporte          28   €30.00m   Manchester City    \n",
       "7            7    Manuel Akanji          27   €30.00m   Manchester City    \n",
       "8            8     Sergio Gómez          22   €15.00m   Manchester City    \n",
       "10          10      Kyle Walker          32   €15.00m   Manchester City    \n",
       "11          11       Rico Lewis          18   €15.00m   Manchester City    \n",
       "12          12            Rodri          26   €80.00m   Manchester City    \n",
       "13          13  Kalvin Phillips          27   €35.00m   Manchester City    \n",
       "14          14   Máximo Perrone          20   €10.00m   Manchester City    \n",
       "15          15   Ilkay Gündogan          32   €25.00m   Manchester City    \n",
       "16          16  Kevin De Bruyne          31   €80.00m   Manchester City    \n",
       "17          17   Bernardo Silva          28   €80.00m   Manchester City    \n",
       "18          18      Cole Palmer          20   €15.00m   Manchester City    \n",
       "19          19       Phil Foden          22  €110.00m   Manchester City    \n",
       "20          20    Jack Grealish          27   €70.00m   Manchester City    \n",
       "\n",
       "    Nationality            Position  valor_numerico Posicion_Agrupada  \\\n",
       "0        Brazil          Goalkeeper      45000000.0           Arquero   \n",
       "1       Germany          Goalkeeper       6000000.0           Arquero   \n",
       "2       England          Goalkeeper        250000.0           Arquero   \n",
       "3      Portugal         Centre-Back      75000000.0          Defensas   \n",
       "4   Netherlands         Centre-Back      35000000.0          Defensas   \n",
       "5       England         Centre-Back      30000000.0          Defensas   \n",
       "6         Spain         Centre-Back      30000000.0          Defensas   \n",
       "7   Switzerland         Centre-Back      30000000.0          Defensas   \n",
       "8         Spain           Left-Back      15000000.0          Defensas   \n",
       "10      England          Right-Back      15000000.0          Defensas   \n",
       "11      England          Right-Back      15000000.0          Defensas   \n",
       "12        Spain  Defensive Midfield      80000000.0          Defensas   \n",
       "13      England  Defensive Midfield      35000000.0          Defensas   \n",
       "14    Argentina  Defensive Midfield      10000000.0          Defensas   \n",
       "15      Germany    Central Midfield      25000000.0          Volantes   \n",
       "16      Belgium  Attacking Midfield      80000000.0          Volantes   \n",
       "17     Portugal  Attacking Midfield      80000000.0          Volantes   \n",
       "18      England  Attacking Midfield      15000000.0          Volantes   \n",
       "19      England         Left Winger     110000000.0          Volantes   \n",
       "20      England         Left Winger      70000000.0          Volantes   \n",
       "\n",
       "       rango  \n",
       "0      0-50M  \n",
       "1      0-50M  \n",
       "2      0-50M  \n",
       "3    50-100M  \n",
       "4      0-50M  \n",
       "5      0-50M  \n",
       "6      0-50M  \n",
       "7      0-50M  \n",
       "8      0-50M  \n",
       "10     0-50M  \n",
       "11     0-50M  \n",
       "12   50-100M  \n",
       "13     0-50M  \n",
       "14     0-50M  \n",
       "15     0-50M  \n",
       "16   50-100M  \n",
       "17   50-100M  \n",
       "18     0-50M  \n",
       "19  100-150M  \n",
       "20   50-100M  "
      ]
     },
     "execution_count": 49,
     "metadata": {},
     "output_type": "execute_result"
    }
   ],
   "source": [
    "value_df.head(20)"
   ]
  },
  {
   "cell_type": "code",
   "execution_count": 30,
   "id": "59184abb",
   "metadata": {},
   "outputs": [
    {
     "data": {
      "text/plain": [
       "(11049, 9)"
      ]
     },
     "execution_count": 30,
     "metadata": {},
     "output_type": "execute_result"
    }
   ],
   "source": [
    "value_df.shape"
   ]
  },
  {
   "cell_type": "code",
   "execution_count": 16,
   "id": "e99c8006",
   "metadata": {},
   "outputs": [
    {
     "data": {
      "text/plain": [
       "Unnamed: 0      int64\n",
       "Player Name    object\n",
       "Player Age      int64\n",
       "Value          object\n",
       "Team           object\n",
       "Nationality    object\n",
       "Position       object\n",
       "dtype: object"
      ]
     },
     "execution_count": 16,
     "metadata": {},
     "output_type": "execute_result"
    }
   ],
   "source": [
    "value_df.dtypes"
   ]
  },
  {
   "cell_type": "markdown",
   "id": "072f8f68",
   "metadata": {},
   "source": [
    "<span style=\"font-size: 13pt;\">Durante la revision de las columnas del dataset, de las cuales solo 2 son tipo 'int', el resto son 'varchar', la columna value se toma como varchar ya que posee signos y el denominador de cantidad (miles, millones), es muy probable que esta columna sea modificada mas adelante</span>"
   ]
  },
  {
   "cell_type": "code",
   "execution_count": 17,
   "id": "e30ccbb8",
   "metadata": {},
   "outputs": [
    {
     "data": {
      "text/plain": [
       "object    5\n",
       "int64     2\n",
       "Name: count, dtype: int64"
      ]
     },
     "execution_count": 17,
     "metadata": {},
     "output_type": "execute_result"
    }
   ],
   "source": [
    "value_df.dtypes.value_counts()"
   ]
  },
  {
   "cell_type": "code",
   "execution_count": 18,
   "id": "583684de",
   "metadata": {},
   "outputs": [
    {
     "data": {
      "text/plain": [
       "Unnamed: 0     False\n",
       "Player Name    False\n",
       "Player Age     False\n",
       "Value          False\n",
       "Team           False\n",
       "Nationality    False\n",
       "Position       False\n",
       "dtype: bool"
      ]
     },
     "execution_count": 18,
     "metadata": {},
     "output_type": "execute_result"
    }
   ],
   "source": [
    "value_df.isnull().any()"
   ]
  },
  {
   "cell_type": "code",
   "execution_count": 19,
   "id": "030168c7",
   "metadata": {},
   "outputs": [
    {
     "data": {
      "text/html": [
       "<div>\n",
       "<style scoped>\n",
       "    .dataframe tbody tr th:only-of-type {\n",
       "        vertical-align: middle;\n",
       "    }\n",
       "\n",
       "    .dataframe tbody tr th {\n",
       "        vertical-align: top;\n",
       "    }\n",
       "\n",
       "    .dataframe thead th {\n",
       "        text-align: right;\n",
       "    }\n",
       "</style>\n",
       "<table border=\"1\" class=\"dataframe\">\n",
       "  <thead>\n",
       "    <tr style=\"text-align: right;\">\n",
       "      <th></th>\n",
       "      <th>Player Name</th>\n",
       "      <th>Value</th>\n",
       "      <th>Team</th>\n",
       "      <th>Nationality</th>\n",
       "      <th>Position</th>\n",
       "    </tr>\n",
       "  </thead>\n",
       "  <tbody>\n",
       "    <tr>\n",
       "      <th>count</th>\n",
       "      <td>11049</td>\n",
       "      <td>11049</td>\n",
       "      <td>11049</td>\n",
       "      <td>11049</td>\n",
       "      <td>11049</td>\n",
       "    </tr>\n",
       "    <tr>\n",
       "      <th>unique</th>\n",
       "      <td>10963</td>\n",
       "      <td>125</td>\n",
       "      <td>401</td>\n",
       "      <td>137</td>\n",
       "      <td>16</td>\n",
       "    </tr>\n",
       "    <tr>\n",
       "      <th>top</th>\n",
       "      <td>Paulinho</td>\n",
       "      <td>€300k</td>\n",
       "      <td>Varbergs BoIS</td>\n",
       "      <td>France</td>\n",
       "      <td>Centre-Back</td>\n",
       "    </tr>\n",
       "    <tr>\n",
       "      <th>freq</th>\n",
       "      <td>4</td>\n",
       "      <td>709</td>\n",
       "      <td>42</td>\n",
       "      <td>515</td>\n",
       "      <td>1911</td>\n",
       "    </tr>\n",
       "  </tbody>\n",
       "</table>\n",
       "</div>"
      ],
      "text/plain": [
       "       Player Name  Value             Team Nationality     Position\n",
       "count        11049  11049            11049       11049        11049\n",
       "unique       10963    125              401         137           16\n",
       "top       Paulinho  €300k   Varbergs BoIS       France  Centre-Back\n",
       "freq             4    709               42         515         1911"
      ]
     },
     "execution_count": 19,
     "metadata": {},
     "output_type": "execute_result"
    }
   ],
   "source": [
    "value_df.describe(include=\"object\") "
   ]
  },
  {
   "cell_type": "markdown",
   "id": "e6dbad89",
   "metadata": {},
   "source": [
    "<span style=\"font-size: 25px; font-weight: bold;\">Graficas</span>\n",
    "\n",
    "<span style=\"font-size: 13pt;\">De igual manera que en el csv anterior exploramos el conjunto de datos mediante diversas visualizaciones para profundizar en su comprensión y obtener perspectivas valiosas.</span>"
   ]
  },
  {
   "cell_type": "code",
   "execution_count": 22,
   "id": "cd9f35c5",
   "metadata": {},
   "outputs": [
    {
     "data": {
      "image/png": "[encoded data removed]",
      "text/plain": [
       "<Figure size 1200x600 with 1 Axes>"
      ]
     },
     "metadata": {},
     "output_type": "display_data"
    }
   ],
   "source": [
    "age_counts = value_df['Player Age'].value_counts().sort_index()\n",
    "plt.figure(figsize=(12, 6))\n",
    "plt.bar(age_counts.index, age_counts.values, width=0.9, color='skyblue')\n",
    "plt.xlabel('Edad')\n",
    "plt.ylabel('Cantidad de Jugadores')\n",
    "plt.title('Gráfico de Barras de Edades')\n",
    "plt.show()"
   ]
  },
  {
   "cell_type": "markdown",
   "id": "e2ad0712",
   "metadata": {},
   "source": [
    "<span style=\"font-size: 13pt;\">El histograma representa la distribución de las edades de los jugadores presentes en el conjunto de datos. Se observa una amplia variabilidad en las edades, lo que indica la presencia de jugadores de diferentes rangos de edad. Sin embargo, destaca un grupo significativo de jugadores cuyas edades se encuentran principalmente en el rango de 21 a 25 años.</span>"
   ]
  },
  {
   "cell_type": "code",
   "execution_count": 23,
   "id": "931cf9a6",
   "metadata": {},
   "outputs": [
    {
     "data": {
      "image/png": "[encoded data removed]",
      "text/plain": [
       "<Figure size 800x500 with 1 Axes>"
      ]
     },
     "metadata": {},
     "output_type": "display_data"
    }
   ],
   "source": [
    "top_paises = value_df['Nationality'].value_counts().nlargest(5)\n",
    "colores = ['#C03221', '#FFC53A', '#3085C3', '#545E75', '#90D1A4']\n",
    "\n",
    "plt.figure(figsize=(8, 5))\n",
    "bars = plt.bar(top_paises.index, top_paises, color=colores)\n",
    "\n",
    "for bar, cantidad in zip(bars, top_paises):\n",
    "    plt.text(bar.get_x() + bar.get_width() / 2, bar.get_height() + 0.1, str(cantidad), ha='center', va='bottom', color='black')\n",
    "\n",
    "plt.xlabel('País')\n",
    "plt.ylabel('Cantidad de Jugadores')\n",
    "plt.title('Top 5 Países')\n",
    "plt.xticks(rotation=45, ha='right') \n",
    "plt.show()"
   ]
  },
  {
   "cell_type": "markdown",
   "id": "8ae6ef69",
   "metadata": {},
   "source": [
    "<span style=\"font-size: 13pt;\">El gráfico de barras ilustra las nacionalidades más frecuentes entre los jugadores del conjunto de datos. El top 5 de nacionalidades revela la presencia destacada de jugadores procedentes de países que han dejado una huella significativa a lo largo de la historia de este deporte. Este análisis sugiere similitudes con el conjunto de datos anterior, donde también se observaba una presencia notable de jugadores provenientes de países como Francia y España.</span>"
   ]
  },
  {
   "cell_type": "code",
   "execution_count": 45,
   "id": "eb58b9a6",
   "metadata": {},
   "outputs": [
    {
     "name": "stderr",
     "output_type": "stream",
     "text": [
      "C:\\Users\\CHZ\\AppData\\Local\\Temp\\ipykernel_7776\\1115535287.py:26: UserWarning: The figure layout has changed to tight\n",
      "  plt.tight_layout()\n"
     ]
    },
    {
     "data": {
      "image/png": "[encoded data removed]",
      "text/plain": [
       "<Figure size 800x600 with 1 Axes>"
      ]
     },
     "metadata": {},
     "output_type": "display_data"
    }
   ],
   "source": [
    "def agrupar_posiciones(posicion):\n",
    "    if posicion in ['Goalkeeper']:\n",
    "        return 'Arquero'\n",
    "    elif posicion in ['Centre-Back', 'Left-Back', 'Right-Back', 'Defensive Midfield']:\n",
    "        return 'Defensas'\n",
    "    elif posicion in ['Central Midfield', 'Attacking Midfield', 'Left Winger', 'Right Winger',\n",
    "                      'Left Midfield', 'Right Midfield', 'midfield']:\n",
    "        return 'Volantes'\n",
    "    elif posicion in ['Centre-Forward', 'Second Striker', 'Attack']:\n",
    "        return 'Delanteros'\n",
    "\n",
    "value_df['Posicion_Agrupada'] = value_df['Position'].apply(agrupar_posiciones)\n",
    "\n",
    "conteo_posiciones = value_df['Posicion_Agrupada'].value_counts()\n",
    "colores = ['#C03221', '#FFC53A', '#3085C3', '#545E75', '#90D1A4']\n",
    "plt.figure(figsize=(8, 6))\n",
    "conteo_posiciones.plot(kind='bar', color=colores)\n",
    "plt.title('Recuento de jugadores por categoría de posición')\n",
    "plt.xlabel('Categoría de Posición')\n",
    "plt.ylabel('Número de Jugadores')\n",
    "plt.xticks(rotation=45) \n",
    "plt.tight_layout()\n",
    "for index, value in enumerate(conteo_posiciones):\n",
    "    plt.text(index, value + 0.2, str(value), ha='center', va='bottom', fontsize=8)\n",
    "\n",
    "plt.tight_layout()\n",
    "plt.show()"
   ]
  },
  {
   "cell_type": "code",
   "execution_count": 55,
   "id": "9f5accbd",
   "metadata": {},
   "outputs": [
    {
     "data": {
      "image/png": "[encoded data removed]",
      "text/plain": [
       "<Figure size 800x500 with 1 Axes>"
      ]
     },
     "metadata": {},
     "output_type": "display_data"
    }
   ],
   "source": [
    "def convertir_valor(valor):\n",
    "    if valor.endswith('k'):\n",
    "        return float(valor[1:-1]) * 1000\n",
    "    elif valor.endswith('m'):\n",
    "        return float(valor[1:-1]) * 1000000\n",
    "    else:\n",
    "        return 0\n",
    "\n",
    "value_df['valor_numerico'] = value_df['Value'].apply(convertir_valor)\n",
    "\n",
    "rangos = [0, 50000000, 100000000, 150000000, float('inf')]\n",
    "etiquetas = ['0-50M', '50-100M', '100-150M', '150M+']\n",
    "\n",
    "value_df['rango'] = pd.cut(value_df['valor_numerico'], bins=rangos, labels=etiquetas, right=False)\n",
    "\n",
    "conteo = value_df['rango'].value_counts().reindex(etiquetas, fill_value=0)\n",
    "\n",
    "plt.figure(figsize=(8, 5))\n",
    "grafico = conteo.plot(kind='bar', color=['royalblue', 'limegreen', 'orange', 'red'])\n",
    "plt.xlabel('Rango de Valores')\n",
    "plt.ylabel('Número de Jugadores')\n",
    "plt.title('Distribución de Jugadores')\n",
    "\n",
    "for i in grafico.patches:\n",
    "    grafico.annotate(f'{int(i.get_height())}', (i.get_x() + i.get_width() / 2, i.get_height()), ha='center', va='bottom')\n",
    "\n",
    "plt.show()"
   ]
  }
 ],
 "metadata": {
  "kernelspec": {
   "display_name": "Python 3 (ipykernel)",
   "language": "python",
   "name": "python3"
  },
  "language_info": {
   "codemirror_mode": {
    "name": "ipython",
    "version": 3
   },
   "file_extension": ".py",
   "mimetype": "text/x-python",
   "name": "python",
   "nbconvert_exporter": "python",
   "pygments_lexer": "ipython3",
   "version": "3.11.5"
  }
 },
 "nbformat": 4,
 "nbformat_minor": 5
}
