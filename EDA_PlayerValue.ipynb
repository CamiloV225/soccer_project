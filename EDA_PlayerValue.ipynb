{
 "cells": [
  {
   "cell_type": "markdown",
   "id": "e1146253",
   "metadata": {},
   "source": [
    "Al igual que hicimos con el dataset anterior, realizamos analisis de dataset que posee el precio"
   ]
  },
  {
   "cell_type": "code",
   "execution_count": 4,
   "id": "63113cd2",
   "metadata": {},
   "outputs": [],
   "source": [
    "import pandas as pd \n",
    "import numpy\n",
    "import matplotlib.pyplot as plt\n",
    "import psycopg2"
   ]
  },
  {
   "cell_type": "code",
   "execution_count": 5,
   "id": "8fbd9204",
   "metadata": {},
   "outputs": [],
   "source": [
    "def connect_postgres():\n",
    "         \n",
    "    connection = psycopg2.connect(\n",
    "        database=\"Soccer\",\n",
    "        user=\"postgres\",\n",
    "        password=\"Ronny1212\",\n",
    "        host=\"localhost\",\n",
    "        port=5432\n",
    "    )\n",
    "    return connection\n",
    "    print(\"Database connection ok\")"
   ]
  },
  {
   "cell_type": "markdown",
   "id": "4b443e3c",
   "metadata": {},
   "source": [
    "Hicimos la revision de las columnas del dataset, de las cuales solo 2 son tipo 'int', el resto son 'varchar', la columna value se toma como varchar ya que posee signos y el denominador de cantidad (miles, millones), es muy probable que esta columna sea modificada mas adelante"
   ]
  },
  {
   "cell_type": "code",
   "execution_count": 35,
   "id": "59af255d",
   "metadata": {},
   "outputs": [
    {
     "name": "stdout",
     "output_type": "stream",
     "text": [
      "   Rk           Name  Age    Value               Team  Nationality  \\\n",
      "0   0        Ederson   29  €45.00m   Manchester City        Brazil   \n",
      "1   1  Stefan Ortega   30   €6.00m   Manchester City       Germany   \n",
      "2   2   Scott Carson   37    €250k   Manchester City       England   \n",
      "3   3     Rúben Dias   25  €75.00m   Manchester City      Portugal   \n",
      "4   4     Nathan Aké   28  €35.00m   Manchester City   Netherlands   \n",
      "\n",
      "      Position  \n",
      "0   Goalkeeper  \n",
      "1   Goalkeeper  \n",
      "2   Goalkeeper  \n",
      "3  Centre-Back  \n",
      "4  Centre-Back  \n"
     ]
    }
   ],
   "source": [
    "connection = connect_postgres()\n",
    "cursor = connection.cursor()\n",
    "cursor.execute(\"\"\"SELECT * FROM playervalue\"\"\")\n",
    "connection.commit()\n",
    "resultados = cursor.fetchall()\n",
    "df = pd.DataFrame(resultados)\n",
    "df.columns=['Rk','Name','Age','Value','Team','Nationality','Position']\n",
    "print(df.head())\n",
    "\n"
   ]
  },
  {
   "cell_type": "code",
   "execution_count": 36,
   "id": "69530130",
   "metadata": {},
   "outputs": [
    {
     "data": {
      "text/plain": [
       "Rk              int64\n",
       "Name           object\n",
       "Age             int64\n",
       "Value          object\n",
       "Team           object\n",
       "Nationality    object\n",
       "Position       object\n",
       "dtype: object"
      ]
     },
     "execution_count": 36,
     "metadata": {},
     "output_type": "execute_result"
    }
   ],
   "source": [
    "df.dtypes"
   ]
  },
  {
   "cell_type": "code",
   "execution_count": 37,
   "id": "c1643d66",
   "metadata": {},
   "outputs": [
    {
     "data": {
      "text/plain": [
       "object    5\n",
       "int64     2\n",
       "dtype: int64"
      ]
     },
     "execution_count": 37,
     "metadata": {},
     "output_type": "execute_result"
    }
   ],
   "source": [
    "df.dtypes.value_counts()"
   ]
  },
  {
   "cell_type": "code",
   "execution_count": 38,
   "id": "d1528282",
   "metadata": {},
   "outputs": [
    {
     "data": {
      "text/plain": [
       "Rk             False\n",
       "Name           False\n",
       "Age            False\n",
       "Value          False\n",
       "Team           False\n",
       "Nationality    False\n",
       "Position       False\n",
       "dtype: bool"
      ]
     },
     "execution_count": 38,
     "metadata": {},
     "output_type": "execute_result"
    }
   ],
   "source": [
    "df.isnull().any()"
   ]
  },
  {
   "cell_type": "code",
   "execution_count": 46,
   "id": "6110f8f7",
   "metadata": {},
   "outputs": [
    {
     "data": {
      "text/plain": [
       "object    5\n",
       "int64     2\n",
       "dtype: int64"
      ]
     },
     "execution_count": 46,
     "metadata": {},
     "output_type": "execute_result"
    }
   ],
   "source": [
    "df.dtypes.value_counts()"
   ]
  },
  {
   "cell_type": "code",
   "execution_count": 39,
   "id": "0aaf674b",
   "metadata": {},
   "outputs": [
    {
     "data": {
      "text/html": [
       "<div>\n",
       "<style scoped>\n",
       "    .dataframe tbody tr th:only-of-type {\n",
       "        vertical-align: middle;\n",
       "    }\n",
       "\n",
       "    .dataframe tbody tr th {\n",
       "        vertical-align: top;\n",
       "    }\n",
       "\n",
       "    .dataframe thead th {\n",
       "        text-align: right;\n",
       "    }\n",
       "</style>\n",
       "<table border=\"1\" class=\"dataframe\">\n",
       "  <thead>\n",
       "    <tr style=\"text-align: right;\">\n",
       "      <th></th>\n",
       "      <th>Name</th>\n",
       "      <th>Value</th>\n",
       "      <th>Team</th>\n",
       "      <th>Nationality</th>\n",
       "      <th>Position</th>\n",
       "    </tr>\n",
       "  </thead>\n",
       "  <tbody>\n",
       "    <tr>\n",
       "      <th>count</th>\n",
       "      <td>11049</td>\n",
       "      <td>11049</td>\n",
       "      <td>11049</td>\n",
       "      <td>11049</td>\n",
       "      <td>11049</td>\n",
       "    </tr>\n",
       "    <tr>\n",
       "      <th>unique</th>\n",
       "      <td>10963</td>\n",
       "      <td>125</td>\n",
       "      <td>401</td>\n",
       "      <td>137</td>\n",
       "      <td>16</td>\n",
       "    </tr>\n",
       "    <tr>\n",
       "      <th>top</th>\n",
       "      <td>Paulinho</td>\n",
       "      <td>€300k</td>\n",
       "      <td>Varbergs BoIS</td>\n",
       "      <td>France</td>\n",
       "      <td>Centre-Back</td>\n",
       "    </tr>\n",
       "    <tr>\n",
       "      <th>freq</th>\n",
       "      <td>4</td>\n",
       "      <td>709</td>\n",
       "      <td>42</td>\n",
       "      <td>515</td>\n",
       "      <td>1911</td>\n",
       "    </tr>\n",
       "  </tbody>\n",
       "</table>\n",
       "</div>"
      ],
      "text/plain": [
       "            Name  Value             Team Nationality     Position\n",
       "count      11049  11049            11049       11049        11049\n",
       "unique     10963    125              401         137           16\n",
       "top     Paulinho  €300k   Varbergs BoIS       France  Centre-Back\n",
       "freq           4    709               42         515         1911"
      ]
     },
     "execution_count": 39,
     "metadata": {},
     "output_type": "execute_result"
    }
   ],
   "source": [
    "df.describe(include=\"object\") "
   ]
  },
  {
   "cell_type": "code",
   "execution_count": 41,
   "id": "4d0589db",
   "metadata": {},
   "outputs": [
    {
     "data": {
      "text/plain": [
       "count    11049.000000\n",
       "mean        25.480315\n",
       "std          4.805447\n",
       "min         15.000000\n",
       "25%         22.000000\n",
       "50%         25.000000\n",
       "75%         29.000000\n",
       "max         47.000000\n",
       "Name: Age, dtype: float64"
      ]
     },
     "execution_count": 41,
     "metadata": {},
     "output_type": "execute_result"
    }
   ],
   "source": [
    "df.describe(include=\"int64\")[\"Age\"]"
   ]
  },
  {
   "cell_type": "markdown",
   "id": "205833ac",
   "metadata": {},
   "source": [
    "Al igual que el anterior este dataset posee la informacion referente a la posicion de los jugadores."
   ]
  },
  {
   "cell_type": "code",
   "execution_count": 42,
   "id": "b66b5157",
   "metadata": {},
   "outputs": [
    {
     "data": {
      "text/plain": [
       "array(['Goalkeeper', 'Centre-Back', 'Left-Back', 'Right-Back',\n",
       "       'Defensive Midfield', 'Central Midfield', 'Attacking Midfield',\n",
       "       'Left Winger', 'Right Winger', 'Centre-Forward', 'Second Striker',\n",
       "       'Left Midfield', 'Right Midfield', 'midfield', 'Attack',\n",
       "       'Defender'], dtype=object)"
      ]
     },
     "execution_count": 42,
     "metadata": {},
     "output_type": "execute_result"
    }
   ],
   "source": [
    "df['Position'].unique()"
   ]
  },
  {
   "cell_type": "code",
   "execution_count": 43,
   "id": "412c5380",
   "metadata": {},
   "outputs": [
    {
     "data": {
      "text/plain": [
       "array(['Brazil', 'Germany', 'England', 'Portugal', 'Netherlands', 'Spain',\n",
       "       'Switzerland', 'France', 'Argentina', 'Belgium', 'Algeria',\n",
       "       'Norway', 'Senegal', 'United States', 'Croatia', 'Ukraine',\n",
       "       'Morocco', 'Albania', \"Cote d'Ivoire\", 'Gabon', 'Poland',\n",
       "       'Scotland', 'Japan', 'Ghana', 'Italy', 'Egypt', 'Ireland',\n",
       "       'Cameroon', 'Greece', 'Guinea', 'Colombia', 'Uruguay', 'Sweden',\n",
       "       'Denmark', 'Austria', 'Iraq', 'Wales', 'Mali', 'Korea, South',\n",
       "       'Slovakia', 'Northern Ireland', 'Paraguay', 'Czech Republic',\n",
       "       'Jamaica', 'Turkey', 'Australia', 'Nigeria', 'Zambia', 'Finland',\n",
       "       'Burkina Faso', 'Mexico', 'Ecuador', 'Bosnia-Herzegovina',\n",
       "       'Costa Rica', 'New Zealand', 'Montserrat', 'Grenada', 'Iran',\n",
       "       'DR Congo', 'Dominican Republic', 'Serbia', 'Israel', 'Zimbabwe',\n",
       "       'Slovenia', 'Montenegro', 'Mozambique', 'Central African Republic',\n",
       "       'Chile', 'Georgia', 'Guadeloupe', 'Peru', 'Togo', 'Venezuela',\n",
       "       'North Macedonia', 'Kosovo', 'Guinea-Bissau', 'Canada', 'Honduras',\n",
       "       'Romania', 'Armenia', 'The Gambia', 'Lithuania',\n",
       "       'Equatorial Guinea', 'Russia', 'Bulgaria', 'Tunisia', 'Cyprus',\n",
       "       'Iceland', 'Uzbekistan', 'Angola', 'Latvia', 'Sierra Leone',\n",
       "       'Hungary', 'Luxembourg', 'Suriname', 'Philippines', 'Congo',\n",
       "       'Burundi', 'Comoros', 'Cape Verde', 'Haiti', 'South Africa',\n",
       "       'French Guiana', 'Martinique', 'Benin', 'Madagascar', 'Libya',\n",
       "       'Panama', 'Curacao', 'Palestine', 'Estonia', 'China', 'Azerbaijan',\n",
       "       'Uganda', 'Moldova', 'Kazakhstan', 'Tanzania', 'Kenya', 'Malta',\n",
       "       'Jordan', 'Indonesia', 'Chad', 'Belarus', 'Trinidad and Tobago',\n",
       "       'Mauritania', 'Saudi Arabia', 'Bolivia', 'Liberia', 'Tajikistan',\n",
       "       'Niger', 'Mauritius', 'Thailand', 'Faroe Islands', 'Malawi',\n",
       "       'Guatemala', 'Syria', 'Lebanon'], dtype=object)"
      ]
     },
     "execution_count": 43,
     "metadata": {},
     "output_type": "execute_result"
    }
   ],
   "source": [
    "df['Nationality'].unique()"
   ]
  },
  {
   "cell_type": "markdown",
   "id": "c34b0ba9",
   "metadata": {},
   "source": [
    "Y hicimos el analisis de la edad de los jugadores, por lo que se puede concluir que en ambos dataset existe un alto numero de jugadores que estan entre los 23 y 27 años"
   ]
  },
  {
   "cell_type": "code",
   "execution_count": 45,
   "id": "3e5357c3",
   "metadata": {},
   "outputs": [
    {
     "data": {
      "image/png": "[encoded data removed]",
      "text/plain": [
       "<Figure size 1200x600 with 1 Axes>"
      ]
     },
     "metadata": {},
     "output_type": "display_data"
    }
   ],
   "source": [
    "age_counts = df['Age'].value_counts().sort_index()\n",
    "plt.figure(figsize=(12, 6))\n",
    "plt.bar(age_counts.index, age_counts.values, width=0.9, color='skyblue')\n",
    "plt.xlabel('Edad')\n",
    "plt.ylabel('Cantidad de Jugadores')\n",
    "plt.title('Gráfico de Barras de Edades')\n",
    "plt.show()"
   ]
  },
  {
   "cell_type": "code",
   "execution_count": null,
   "id": "a40b6af1",
   "metadata": {},
   "outputs": [],
   "source": []
  }
 ],
 "metadata": {
  "kernelspec": {
   "display_name": "Python 3 (ipykernel)",
   "language": "python",
   "name": "python3"
  },
  "language_info": {
   "codemirror_mode": {
    "name": "ipython",
    "version": 3
   },
   "file_extension": ".py",
   "mimetype": "text/x-python",
   "name": "python",
   "nbconvert_exporter": "python",
   "pygments_lexer": "ipython3",
   "version": "3.11.4"
  }
 },
 "nbformat": 4,
 "nbformat_minor": 5
}
